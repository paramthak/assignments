{
 "cells": [
  {
   "cell_type": "markdown",
   "id": "8f8bfb0f-b992-4289-9ecf-f8408902d202",
   "metadata": {},
   "source": [
    "Q1. Which keyword is used to create a function? Create a function to return a list of odd numbers in the\n",
    "range of 1 to 25."
   ]
  },
  {
   "cell_type": "code",
   "execution_count": 3,
   "id": "5714a2d7-3aea-4a44-8b6d-4863619e2c5f",
   "metadata": {},
   "outputs": [
    {
     "data": {
      "text/plain": [
       "[2, 4, 6, 8, 10, 12, 14, 16, 18, 20, 22, 24]"
      ]
     },
     "execution_count": 3,
     "metadata": {},
     "output_type": "execute_result"
    }
   ],
   "source": [
    "l1=[1,2,3,4,5,6,7,8,9,10,11,12,13,14,15,16,17,18,19,20,21,22,23,24,25]\n",
    "list(filter(lambda x : x % 2 == 0, l1))"
   ]
  },
  {
   "cell_type": "markdown",
   "id": "a9447531-4a90-4f55-8411-da87cbf5edb6",
   "metadata": {},
   "source": [
    "Q2. Why *args and **kwargs is used in some functions? Create a function each for *args and **kwargs to\n",
    "demonstrate their use."
   ]
  },
  {
   "cell_type": "markdown",
   "id": "db99755e-25ab-4cc2-8f30-0a5caf178a5d",
   "metadata": {},
   "source": [
    "*args is used to take end number of arguments while defining a function whereas **kwargs is used to take keys and\n",
    "values from the arguements. **kwargs is used when a function's output is expected in the data type of a dictionary."
   ]
  },
  {
   "cell_type": "code",
   "execution_count": 5,
   "id": "ef808d98-6464-4cec-8f53-9a55c85e0cf5",
   "metadata": {},
   "outputs": [],
   "source": [
    "def test1(*args):\n",
    "    return args"
   ]
  },
  {
   "cell_type": "code",
   "execution_count": 6,
   "id": "0cfda15d-93e4-4877-86ac-610acd3cae76",
   "metadata": {},
   "outputs": [
    {
     "data": {
      "text/plain": [
       "(1, 2, 3, 4, 5, 6, 7, 8, 9, 10)"
      ]
     },
     "execution_count": 6,
     "metadata": {},
     "output_type": "execute_result"
    }
   ],
   "source": [
    "test1(1,2,3,4,5,6,7,8,9,10)"
   ]
  },
  {
   "cell_type": "code",
   "execution_count": 8,
   "id": "7cf318f2-0197-4af3-bd88-2eb2f538a0e6",
   "metadata": {},
   "outputs": [],
   "source": [
    "def test1(**kwargs):\n",
    "    return kwargs"
   ]
  },
  {
   "cell_type": "code",
   "execution_count": 11,
   "id": "3478af63-0694-4766-ac0e-0cb2af588771",
   "metadata": {},
   "outputs": [
    {
     "data": {
      "text/plain": [
       "{'Hema': 'Rekha', 'jaya': 'aur', 'sushma': 'sabki', 'pasand': 'nirmaaaaaaa'}"
      ]
     },
     "execution_count": 11,
     "metadata": {},
     "output_type": "execute_result"
    }
   ],
   "source": [
    "test1(Hema = \"Rekha\",jaya= \"aur\",sushma=\"sabki\",pasand=\"nirmaaaaaaa\")"
   ]
  },
  {
   "cell_type": "markdown",
   "id": "77dddaa9-1b79-4a2a-a9e8-f145afc989b8",
   "metadata": {},
   "source": [
    "Q3. What is an iterator in python? Name the method used to initialise the iterator object and the method\n",
    "used for iteration. Use these methods to print the first five elements of the given list [2, 4, 6, 8, 10, 12, 14, 16,\n",
    "18, 20]."
   ]
  },
  {
   "cell_type": "markdown",
   "id": "a79046e7-edff-4002-8d95-bc9786730f64",
   "metadata": {},
   "source": [
    "Iterator is an object that enables traversal through a collection of data such as list, tuple or dictionary. It allows one to iterate  over all the elements one by one. To initialize an iterator object, one must use iter() which takes a collection as an argument and returns an iterator object. next() method is ued to iterate over the elements of the collection one by one"
   ]
  },
  {
   "cell_type": "code",
   "execution_count": 14,
   "id": "f9201a6c-0dd8-49da-8f02-096c85247871",
   "metadata": {},
   "outputs": [
    {
     "name": "stdout",
     "output_type": "stream",
     "text": [
      "2\n",
      "4\n",
      "6\n",
      "8\n",
      "10\n"
     ]
    }
   ],
   "source": [
    "my_list=[2,4,6,8,10,12,14,16,18,20]\n",
    "my_iterator = iter(my_list)\n",
    "for i in range(5):\n",
    "    print(next(my_iterator))"
   ]
  },
  {
   "cell_type": "markdown",
   "id": "cb44355f-59bb-4ef1-9344-ef6307792edf",
   "metadata": {},
   "source": [
    "Q4. What is a generator function in python? Why yield keyword is used? Give an example of a generator\n",
    "function."
   ]
  },
  {
   "cell_type": "markdown",
   "id": "bffa41c2-1fa6-4546-bbd6-fc9cec87f4c5",
   "metadata": {},
   "source": [
    "A generator function in python is used to save memory while taking large set of arguments. As compared to normal function which could use a lot of memory while compiling before generating the output, generator function uses 'yield' instead of return which gives an output and then starts iterating the rest of condition again instead of compiling the whole thing at once and then generate an output as used in 'return' keyword. "
   ]
  },
  {
   "cell_type": "code",
   "execution_count": 15,
   "id": "7304a19f-ce0e-4ac6-96ff-65760b3c11f2",
   "metadata": {},
   "outputs": [],
   "source": [
    "def even_numbers(n):\n",
    "    for i in range(n):\n",
    "        if i % 2 == 0:\n",
    "            yield i"
   ]
  },
  {
   "cell_type": "code",
   "execution_count": 16,
   "id": "aeee69fe-6fca-4492-a016-d4d67bb33752",
   "metadata": {},
   "outputs": [
    {
     "name": "stdout",
     "output_type": "stream",
     "text": [
      "0\n",
      "2\n",
      "4\n",
      "6\n",
      "8\n"
     ]
    }
   ],
   "source": [
    "even_gen = even_numbers(10)\n",
    "for num in even_gen:\n",
    "    print(num)"
   ]
  },
  {
   "cell_type": "markdown",
   "id": "6f54542e-5216-4c57-b73c-c71368e5a3de",
   "metadata": {},
   "source": [
    "Q5. Create a generator function for prime numbers less than 1000. Use the next() method to print the\n",
    "first 20 prime numbers."
   ]
  },
  {
   "cell_type": "code",
   "execution_count": 17,
   "id": "bfda7959-2a1a-48b2-82c4-c3a13331f66a",
   "metadata": {},
   "outputs": [],
   "source": [
    "def primes():\n",
    "    yield 2  \n",
    "    primes_list = [2]  \n",
    "    num = 3\n",
    "    while num < 1000:\n",
    "        is_prime = True\n",
    "        for prime in primes_list:\n",
    "            if num % prime == 0:\n",
    "                is_prime = False\n",
    "                break\n",
    "        if is_prime:\n",
    "            yield num\n",
    "            primes_list.append(num)\n",
    "        num += 2"
   ]
  },
  {
   "cell_type": "code",
   "execution_count": 18,
   "id": "a638b022-970f-432c-98b2-02394da5c73c",
   "metadata": {},
   "outputs": [
    {
     "name": "stdout",
     "output_type": "stream",
     "text": [
      "2\n",
      "3\n",
      "5\n",
      "7\n",
      "11\n",
      "13\n",
      "17\n",
      "19\n",
      "23\n",
      "29\n",
      "31\n",
      "37\n",
      "41\n",
      "43\n",
      "47\n",
      "53\n",
      "59\n",
      "61\n",
      "67\n",
      "71\n"
     ]
    }
   ],
   "source": [
    "prime_gen = primes()\n",
    "for i in range(20):\n",
    "    print(next(prime_gen))"
   ]
  },
  {
   "cell_type": "code",
   "execution_count": null,
   "id": "11de2a71-6127-4a9c-859e-34ef8691bbea",
   "metadata": {},
   "outputs": [],
   "source": []
  }
 ],
 "metadata": {
  "kernelspec": {
   "display_name": "Python 3 (ipykernel)",
   "language": "python",
   "name": "python3"
  },
  "language_info": {
   "codemirror_mode": {
    "name": "ipython",
    "version": 3
   },
   "file_extension": ".py",
   "mimetype": "text/x-python",
   "name": "python",
   "nbconvert_exporter": "python",
   "pygments_lexer": "ipython3",
   "version": "3.10.8"
  }
 },
 "nbformat": 4,
 "nbformat_minor": 5
}
