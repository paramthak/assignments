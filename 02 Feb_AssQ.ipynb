{
 "cells": [
  {
   "cell_type": "markdown",
   "id": "01992772-5d06-425a-9b82-143b9368b3f5",
   "metadata": {},
   "source": [
    "Q1. What are the characteristics of the tuples? Is tuple immutable? \n",
    "Answer: \n",
    "\n",
    "Tuples maintain the order of the elements it contains. Tuples can be indexed. Tuples can be used along with loops. Tuples are immutable. "
   ]
  },
  {
   "cell_type": "markdown",
   "id": "7b0b522d-6eed-425b-8007-b0b888efbc18",
   "metadata": {},
   "source": [
    "Q2. What are the two tuple methods in python? Give an example of each method. Give a reason why  tuples have only two in-built methods as compared to Lists.\n",
    "Answer: \n"
   ]
  },
  {
   "cell_type": "code",
   "execution_count": 2,
   "id": "909b4e03-ab5f-49c8-a066-2aa4e9dcd0fa",
   "metadata": {},
   "outputs": [
    {
     "name": "stdout",
     "output_type": "stream",
     "text": [
      "3\n"
     ]
    }
   ],
   "source": [
    "#Two tuple methods in python are ‘Count’ and ‘Index’. \n",
    "atuple=(1,2,3,2,5,2)\n",
    "count_1=atuple.count(2)\n",
    "print(count_1)"
   ]
  },
  {
   "cell_type": "markdown",
   "id": "3b6a6902-82f0-4568-a0d4-e150a32abd22",
   "metadata": {},
   "source": [
    "This program prints the number of re-occurrences of integer 2. Output is 3"
   ]
  },
  {
   "cell_type": "code",
   "execution_count": 5,
   "id": "80e4b7c9-5f17-42ca-a0f0-3ded618388f8",
   "metadata": {},
   "outputs": [
    {
     "name": "stdout",
     "output_type": "stream",
     "text": [
      "2\n"
     ]
    }
   ],
   "source": [
    "btuple=(\"apple\", \"banana\", \"mango\", \"litchi\", \"mango\", \"guava\")\n",
    "index = btuple.index(\"mango\")\n",
    "print(index)"
   ]
  },
  {
   "cell_type": "markdown",
   "id": "2bbc6230-e69d-47d1-aac7-251f793da74b",
   "metadata": {},
   "source": [
    "This program prints the first occurrence index of string “mango” and the output of this program would be 2\n",
    "Tuple only has 2 built-in functions as tuples are immutable. Due to their immutable nature, tuples do not have a lot of functionality like modifying the values inside of tuples hence there are only two functions."
   ]
  },
  {
   "cell_type": "markdown",
   "id": "3b19dd20-2842-4a73-9aca-770cec4064ca",
   "metadata": {},
   "source": [
    "Q3.  Which collection datatypes in python do not allow duplicate items? Write a code using a set to remove  duplicates from the given list. \n",
    "\n",
    "List = [1, 1, 1, 2, 1, 3, 1, 4, 2, 1, 2, 2, 2, 3, 2, 4, 3, 1, 3, 2, 3, 3, 3, 4, 4, 1, 4, 2, 4, 3, 4, 4] \n",
    "Answer: "
   ]
  },
  {
   "cell_type": "code",
   "execution_count": 6,
   "id": "bac0046d-2ee4-4e83-8554-40f82ae73ede",
   "metadata": {},
   "outputs": [
    {
     "name": "stdout",
     "output_type": "stream",
     "text": [
      "{1, 2, 3, 4}\n"
     ]
    }
   ],
   "source": [
    "my_list = [1, 1, 1, 2, 1, 3, 1, 4, 2, 1, 2, 2, 2, 3, 2, 4, 3, 1, 3, 2, 3, 3, 3, 4, 4, 1, 4, 2, 4, 3, 4, 4] \n",
    "my_set = set(my_list)\n",
    "print(my_set)"
   ]
  },
  {
   "cell_type": "markdown",
   "id": "17622d25-0c35-4714-8e19-1c13f7f8ed38",
   "metadata": {},
   "source": [
    "‘Set’ data type does not allow duplicate items. \n",
    "\n",
    "Q4. Explain the difference between the union() and update() methods for a set. Give an example of  each method. \n",
    "Answer: "
   ]
  },
  {
   "cell_type": "code",
   "execution_count": 7,
   "id": "cc869e69-bf66-4172-bcf5-699d7057eebe",
   "metadata": {},
   "outputs": [
    {
     "name": "stdout",
     "output_type": "stream",
     "text": [
      "{1, 2, 3, 4, 5, 6, 7}\n"
     ]
    }
   ],
   "source": [
    "#union() method creates a new set and adds the value of two sets. Example: \n",
    "set1={1,2,3,4}\n",
    "set2={4,5,6,7}\n",
    "union_set=set1.union(set2)\n",
    "print(union_set)"
   ]
  },
  {
   "cell_type": "markdown",
   "id": "bfa42512-7f53-4c71-9abc-1245e29ebf4b",
   "metadata": {},
   "source": [
    "Here, union_set combines two sets and gives us an output of {1,2,3,4,5,6,7}\n",
    "Whereas, update() method adds the new set to the current set without creating a new set. For example: "
   ]
  },
  {
   "cell_type": "code",
   "execution_count": 8,
   "id": "cc10b79e-8fd0-4c43-aa21-3af39f492d84",
   "metadata": {},
   "outputs": [
    {
     "name": "stdout",
     "output_type": "stream",
     "text": [
      "{1, 2, 3, 4, 5, 6, 7}\n"
     ]
    }
   ],
   "source": [
    "set1={1,2,3,4}\n",
    "set2={4,5,6,7}\n",
    "set1.update(set2)\n",
    "print(set1)"
   ]
  },
  {
   "cell_type": "markdown",
   "id": "1946d40d-ab81-458f-a82b-b67ce312a1db",
   "metadata": {},
   "source": [
    "Here, update() method, without creating any set, added set1+2 giving us the output of {1,2,3,4,5,6,7}t\n",
    "\n",
    "Q5. What is a dictionary? Give an example. Also, state whether a dictionary is ordered or unordered. \n",
    "Answer: "
   ]
  },
  {
   "cell_type": "markdown",
   "id": "3e33ff8f-01f0-4316-8714-96144c4f7d8e",
   "metadata": {},
   "source": [
    "#Dictionary is a data type consisting of keys and values. An example of a dictionary is: \n",
    "student_deets={“name” : “Param” , “Class” : “10C” , “Hall ticket number” : 6258916, “board” : “ICSE”}\n",
    "#Here, “name” is the ‘KEY’ and “Param” is the value\n",
    "\n",
    "Q6. Can we create a nested dictionary? If so, please give an example by creating a simple one-level  nested dictionary. \n",
    "Answer: \n",
    "\n",
    "Yes, we can create a nested dictionary. Example: "
   ]
  },
  {
   "cell_type": "code",
   "execution_count": 13,
   "id": "ac235cf4-814a-49a6-850d-ed34ba65fdbd",
   "metadata": {},
   "outputs": [
    {
     "name": "stdout",
     "output_type": "stream",
     "text": [
      "Indian Council for Secondary Education\n"
     ]
    }
   ],
   "source": [
    "student_deets= {\"name\" : \"Param\" , \"Class\" : \"10C\" , \"Hall ticket number\" : 6258916, \"board\" : {\"ICSE\" : \"Indian Council for Secondary Education\"}}\n",
    "print(student_deets[\"board\"][\"ICSE\"])\n",
    "#Here, we are printing the nested dictionary value of “Indian Council for Secondary Education” which is our output."
   ]
  },
  {
   "cell_type": "markdown",
   "id": "819ddb54-b715-45e8-8aec-ef392418cdc2",
   "metadata": {},
   "source": [
    "Q7. Using setdefault() method, create key named topics in the given dictionary and also add the value of  the key as this list ['Python', 'Machine Learning’, 'Deep Learning'] \n",
    "dict1 = {'language' : 'Python', 'course': 'Data Science Masters'} \n",
    "Answer: "
   ]
  },
  {
   "cell_type": "code",
   "execution_count": 17,
   "id": "b96aee9e-66f8-4f55-b3d3-e4eccdd5e184",
   "metadata": {},
   "outputs": [
    {
     "name": "stdout",
     "output_type": "stream",
     "text": [
      "{'language': 'Python', 'course': 'Data Science Masters', 'topics': ['Python', 'Machine Learning', 'Deep Learning']}\n"
     ]
    }
   ],
   "source": [
    "dict1 = {'language' : 'Python', 'course' : 'Data Science Masters'}\n",
    "dict1.setdefault('topics', [\"Python\", \"Machine Learning\", \"Deep Learning\"])\n",
    "print(dict1)"
   ]
  },
  {
   "cell_type": "markdown",
   "id": "83be610d-1ba9-4b84-8666-a8bd02e7ad9c",
   "metadata": {},
   "source": [
    "Q8. What are the three view objects in dictionaries? Use the three in-built methods in python to display  these three view objects for the given dictionary. \n",
    "dict1 = {'Sport': 'Cricket' , 'Teams': ['India', 'Australia', 'England', 'South Africa', 'Sri Lanka', 'New Zealand']} \n",
    "Answer: "
   ]
  },
  {
   "cell_type": "code",
   "execution_count": 19,
   "id": "58df1007-bae3-4782-b762-ae109d20d78c",
   "metadata": {},
   "outputs": [
    {
     "name": "stdout",
     "output_type": "stream",
     "text": [
      "dict_keys(['Sport', 'Teams'])\n"
     ]
    }
   ],
   "source": [
    "#Three view objects used in dictionaries are dict1.keys(), dict1.values() & dict1.items().\n",
    "\n",
    "dict1={'Sport' : 'Cricket', 'Teams' : ['India', 'Australia', 'England', 'South Africa', 'Sri Lanka', 'New Zealand']}\n",
    "\n",
    "print(dict1.keys())\n",
    "#This prints all the keys throughout the dictionary\n"
   ]
  }
 ],
 "metadata": {
  "kernelspec": {
   "display_name": "Python 3 (ipykernel)",
   "language": "python",
   "name": "python3"
  },
  "language_info": {
   "codemirror_mode": {
    "name": "ipython",
    "version": 3
   },
   "file_extension": ".py",
   "mimetype": "text/x-python",
   "name": "python",
   "nbconvert_exporter": "python",
   "pygments_lexer": "ipython3",
   "version": "3.10.8"
  }
 },
 "nbformat": 4,
 "nbformat_minor": 5
}
