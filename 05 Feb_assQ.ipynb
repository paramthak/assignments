{
 "cells": [
  {
   "cell_type": "markdown",
   "id": "ca4a3b6d-c489-48be-b62b-3d2beff2c646",
   "metadata": {},
   "source": [
    "Q1. Explain Class and Object with respect to Object-Oriented Programming. Give a suitable example."
   ]
  },
  {
   "cell_type": "markdown",
   "id": "62ac4277-de8f-474c-9c3a-a65be2a16bfb",
   "metadata": {},
   "source": [
    "In Object-Oriented Programming (OOP), a Class is a blueprint or template for creating objects that define a set of attributes (data) and methods (functions) that the objects can use. On the other hand, an Object is an instance of a class, created from the blueprint or template provided by the class.\n",
    "\n",
    "To give an example, let's consider a class called Car that represents a car object. The Car class might have attributes like color, make, model, year, fuel_type, and methods like start, accelerate, brake, stop. We can create objects of this class representing different cars, each with its own unique attributes and behavior.\n",
    "\n",
    "Here is an example of creating objects of the Car class:"
   ]
  },
  {
   "cell_type": "code",
   "execution_count": 2,
   "id": "7aada97a-97cc-4df2-9d63-1a850b617b94",
   "metadata": {},
   "outputs": [
    {
     "name": "stdout",
     "output_type": "stream",
     "text": [
      "Toyota Corolla engine started.\n",
      "Honda Civic accelerating.\n"
     ]
    }
   ],
   "source": [
    "class Car:\n",
    "    def __init__(self, color, make, model, year, fuel_type):\n",
    "        self.color = color\n",
    "        self.make = make\n",
    "        self.model = model\n",
    "        self.year = year\n",
    "        self.fuel_type = fuel_type\n",
    "\n",
    "    def start(self):\n",
    "        print(f\"{self.make} {self.model} engine started.\")\n",
    "\n",
    "    def accelerate(self):\n",
    "        print(f\"{self.make} {self.model} accelerating.\")\n",
    "\n",
    "    def brake(self):\n",
    "        print(f\"{self.make} {self.model} braking.\")\n",
    "\n",
    "    def stop(self):\n",
    "        print(f\"{self.make} {self.model} engine stopped.\")\n",
    "\n",
    "car1 = Car('Red', 'Toyota', 'Corolla', 2022, 'Gasoline')\n",
    "car2 = Car('Blue', 'Honda', 'Civic', 2021, 'Hybrid')\n",
    "\n",
    "car1.start()      \n",
    "car2.accelerate() \n"
   ]
  },
  {
   "cell_type": "code",
   "execution_count": null,
   "id": "ea0ab1a2-f0ba-429b-baa5-95c27c5407fa",
   "metadata": {},
   "outputs": [],
   "source": []
  },
  {
   "cell_type": "markdown",
   "id": "aaadf9bc-9895-49c3-91eb-32e64365e98e",
   "metadata": {},
   "source": [
    "Q2. Name the four pillars of OOPs."
   ]
  },
  {
   "cell_type": "markdown",
   "id": "a6aede96-37cd-4f89-9b98-554843d80428",
   "metadata": {},
   "source": [
    "The four pillars of OOPS are:\n",
    "\n",
    "Encapsulation: Refers to the concept of binding data and functions\n",
    "Abstraction: Refers to the concept of hiding unnecessary data\n",
    "Inheritance: It's a mechanism where one class acquires the property and behavior of another class\n",
    "Polymorphism: The ability of objects of different types to be treated as the same type."
   ]
  },
  {
   "cell_type": "code",
   "execution_count": null,
   "id": "ec87deda-cec2-4110-a7a0-86000530fcc3",
   "metadata": {},
   "outputs": [],
   "source": []
  },
  {
   "cell_type": "markdown",
   "id": "1112c6a3-3ffa-48bf-b081-d758abaa9722",
   "metadata": {},
   "source": [
    "Q3. Explain why the __init__() function is used. Give a suitable example."
   ]
  },
  {
   "cell_type": "markdown",
   "id": "68b52216-2c12-4cbc-bd02-4e30495ee36a",
   "metadata": {},
   "source": [
    "The __init__() function is a special method used to initialize the attributes of an object when it is created. It is a constructor method that gets called automatically when we create an instance of a class. The purpose of the __init__() method is to ensure that the object is properly initialized before it is used.\n",
    "\n",
    "Here's an example that illustrates the use of the __init__() method:"
   ]
  },
  {
   "cell_type": "code",
   "execution_count": 3,
   "id": "abeee255-95f2-40d3-9cf0-748aa2ad4f34",
   "metadata": {},
   "outputs": [
    {
     "name": "stdout",
     "output_type": "stream",
     "text": [
      "Name: John\n",
      "Age: 30\n"
     ]
    }
   ],
   "source": [
    "class Person:\n",
    "    def __init__(self, name, age):\n",
    "        self.name = name\n",
    "        self.age = age\n",
    "    \n",
    "    def display(self):\n",
    "        print(\"Name:\", self.name)\n",
    "        print(\"Age:\", self.age)\n",
    "\n",
    "person1 = Person(\"John\", 30)\n",
    "person1.display()\n"
   ]
  },
  {
   "cell_type": "code",
   "execution_count": null,
   "id": "12766a1b-bb9c-49f3-a9da-2f804568515c",
   "metadata": {},
   "outputs": [],
   "source": []
  },
  {
   "cell_type": "markdown",
   "id": "453e9ee3-4f64-4290-ad55-fc242cabc3f6",
   "metadata": {},
   "source": [
    "Q4. Why self is used in OOPs?"
   ]
  },
  {
   "cell_type": "markdown",
   "id": "9328acb8-5d01-4971-a3a9-238be00ce260",
   "metadata": {},
   "source": [
    "In Object-Oriented Programming, self is a reference to the instance of the class itself. It is a convention in Python to use self as the first parameter of instance methods in a class. When you call an instance method of a class, the instance object itself is automatically passed as the first argument.\n",
    "\n",
    "The purpose of using self is to refer to the instance variables and methods of the class within its own instance methods. By using self, you can access and modify the instance variables of a class and also call other instance methods of the same class."
   ]
  },
  {
   "cell_type": "code",
   "execution_count": null,
   "id": "f7e7f925-a144-4d5d-8656-961fd0250d49",
   "metadata": {},
   "outputs": [],
   "source": []
  },
  {
   "cell_type": "markdown",
   "id": "762d1bd1-5878-4f39-ba81-5dfb41a1efc8",
   "metadata": {},
   "source": [
    "Q5. What is inheritance? Give an example for each type of inheritance."
   ]
  },
  {
   "cell_type": "markdown",
   "id": "741d781f-7b7c-4dcc-ae0c-4fa353369a55",
   "metadata": {},
   "source": [
    "Inheritance is a feature in object-oriented programming that allows a class to inherit properties and methods from another class. The class that is being inherited from is called the superclass or parent class, while the class that is inheriting is called the subclass or child class.\n",
    "\n",
    "There are four types of inheritance:\n",
    "\n",
    "1. Single Inheritance: In this type of inheritance, a subclass inherits properties and methods from a single superclass.\n",
    "Example:"
   ]
  },
  {
   "cell_type": "code",
   "execution_count": null,
   "id": "31db88ea-ab53-40bb-b562-d89dfce8517e",
   "metadata": {},
   "outputs": [],
   "source": [
    "class Animal:\n",
    "    def __init__(self, name):\n",
    "        self.name = name\n",
    "\n",
    "    def sound(self):\n",
    "        pass\n",
    "\n",
    "class Dog(Animal):\n",
    "    def sound(self):\n",
    "        return \"Bark\"\n",
    "\n",
    "my_dog = Dog(\"Fido\")\n",
    "print(my_dog.name)  # Output: Fido\n",
    "print(my_dog.sound())  # Output: Bark"
   ]
  },
  {
   "cell_type": "markdown",
   "id": "85669e23-5676-4790-a70d-97b790ca7fc6",
   "metadata": {},
   "source": [
    "In the example above, the Dog class is inheriting the name property and the sound() method from the Animal class.\n",
    "\n",
    "2. Multiple Inheritance: In this type of inheritance, a subclass inherits properties and methods from multiple superclasses."
   ]
  },
  {
   "cell_type": "code",
   "execution_count": null,
   "id": "feafe37b-62c5-4780-9bf1-769284141775",
   "metadata": {},
   "outputs": [],
   "source": [
    "class Vehicle:\n",
    "    def __init__(self, color):\n",
    "        self.color = color\n",
    "\n",
    "    def drive(self):\n",
    "        pass\n",
    "\n",
    "class Radio:\n",
    "    def __init__(self, station):\n",
    "        self.station = station\n",
    "\n",
    "    def play(self):\n",
    "        pass\n",
    "\n",
    "class Car(Vehicle, Radio):\n",
    "    def __init__(self, color, station):\n",
    "        Vehicle.__init__(self, color)\n",
    "        Radio.__init__(self, station)\n",
    "\n",
    "    def drive(self):\n",
    "        return \"Driving\"\n",
    "\n",
    "    def play(self):\n",
    "        return \"Playing\"\n",
    "\n",
    "my_car = Car(\"Red\", \"98.7 FM\")\n",
    "print(my_car.color)  # Output: Red\n",
    "print(my_car.station)  # Output: 98.7 FM\n",
    "print(my_car.drive())  # Output: Driving\n",
    "print(my_car.play())  # Output: Playing"
   ]
  },
  {
   "cell_type": "markdown",
   "id": "a53a3bb1-1e48-436c-8480-d77954b098e8",
   "metadata": {},
   "source": [
    "In the example above, the Car class is inheriting the color property and the drive() method from the Vehicle class, and the station property and the play() method from the Radio class.\n",
    "\n",
    "3. Multi-level Inheritance: In this type of inheritance, a subclass inherits properties and methods from a superclass, which in turn inherits properties and methods from another superclass.\n",
    "Example:"
   ]
  },
  {
   "cell_type": "code",
   "execution_count": null,
   "id": "6aa3f1c8-1c38-40b6-8c01-8b0464f42f59",
   "metadata": {},
   "outputs": [],
   "source": [
    "class Animal:\n",
    "    def __init__(self, name):\n",
    "        self.name = name\n",
    "\n",
    "    def sound(self):\n",
    "        pass\n",
    "\n",
    "class Mammal(Animal):\n",
    "    def __init__(self, name, age):\n",
    "        Animal.__init__(self, name)\n",
    "        self.age = age\n",
    "\n",
    "    def feed(self):\n",
    "        pass\n",
    "\n",
    "class Dog(Mammal):\n",
    "    def __init__(self, name, age):\n",
    "        Mammal.__init__(self, name, age)\n",
    "\n",
    "    def sound(self):\n",
    "        return \"Bark\"\n",
    "\n",
    "my_dog = Dog(\"Fido\", 2)\n",
    "print(my_dog.name)  # Output: Fido\n",
    "print(my_dog.age)  # Output: 2\n",
    "print(my_dog.sound())  # Output: Bark"
   ]
  },
  {
   "cell_type": "markdown",
   "id": "8615cfa4-7302-468b-8b44-ada062582ada",
   "metadata": {},
   "source": [
    "In the example above, the Dog class is inheriting the name and age properties from the Mammal class, which in turn is inheriting the name property from the Animal class."
   ]
  }
 ],
 "metadata": {
  "kernelspec": {
   "display_name": "Python 3 (ipykernel)",
   "language": "python",
   "name": "python3"
  },
  "language_info": {
   "codemirror_mode": {
    "name": "ipython",
    "version": 3
   },
   "file_extension": ".py",
   "mimetype": "text/x-python",
   "name": "python",
   "nbconvert_exporter": "python",
   "pygments_lexer": "ipython3",
   "version": "3.10.8"
  }
 },
 "nbformat": 4,
 "nbformat_minor": 5
}
